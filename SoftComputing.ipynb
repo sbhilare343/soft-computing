{
 "cells": [
  {
   "cell_type": "markdown",
   "id": "db05a211-d950-4585-927f-715c8a1b20c9",
   "metadata": {
    "jp-MarkdownHeadingCollapsed": true
   },
   "source": [
    "# 1. McCulloch Pitt's Neuron Model"
   ]
  },
  {
   "cell_type": "code",
   "execution_count": 14,
   "id": "8dc85dea-ccba-48ec-978e-bca01e9756bc",
   "metadata": {},
   "outputs": [],
   "source": [
    "import numpy as np\n",
    "import pandas as pd\n",
    "\n",
    "class McCullochPitts():\n",
    "    def __init__(self, weights, threshold):\n",
    "        self.weights = weights\n",
    "        self.threshold = threshold\n",
    "\n",
    "    def predict(self, inputs):\n",
    "        weighted_sum = np.dot(inputs, self.weights)\n",
    "\n",
    "        if weighted_sum >= self.threshold:\n",
    "            return 1\n",
    "        else:\n",
    "            return 0"
   ]
  },
  {
   "cell_type": "code",
   "execution_count": 15,
   "id": "1ecb705d-78c6-4457-a586-81e20ffdfc9a",
   "metadata": {},
   "outputs": [
    {
     "name": "stdout",
     "output_type": "stream",
     "text": [
      "Inputs: [0 0], Output: 0, Actual: 0\n",
      "Inputs: [0 1], Output: 0, Actual: 0\n",
      "Inputs: [1 0], Output: 0, Actual: 0\n",
      "Inputs: [1 1], Output: 1, Actual: 1\n"
     ]
    }
   ],
   "source": [
    "# AND Gate\n",
    "inputs = np.array([[0, 0],[0, 1],[1, 0],[1, 1]])\n",
    "weights = np.array([1, 1])\n",
    "threshold = 2\n",
    "AND_model = McCullochPitts(weights, threshold)\n",
    "actual_outputs = np.array([0, 0, 0, 1])\n",
    "\n",
    "for row, actual_op in zip(inputs, actual_outputs):\n",
    "    output = AND_model.predict(row)\n",
    "    print(f\"Inputs: {row}, Output: {output}, Actual: {actual_op}\")"
   ]
  },
  {
   "cell_type": "code",
   "execution_count": 20,
   "id": "f28d99b5-5451-4253-878f-b328309611a1",
   "metadata": {},
   "outputs": [
    {
     "name": "stdout",
     "output_type": "stream",
     "text": [
      "Inputs: [0 0], Intermediate1: 0, Intermediate2: 0, XOR_output: 0\n",
      "Inputs: [0 1], Intermediate1: 0, Intermediate2: 1, XOR_output: 1\n",
      "Inputs: [1 0], Intermediate1: 1, Intermediate2: 0, XOR_output: 1\n",
      "Inputs: [1 1], Intermediate1: 0, Intermediate2: 0, XOR_output: 0\n"
     ]
    }
   ],
   "source": [
    "# XOR Gate\n",
    "# XOR(a, b) = a and -b + -a and b\n",
    "\n",
    "inputs = np.array([[0, 0],[0, 1],[1, 0],[1, 1]])\n",
    "weights1 = np.array([1, -1])\n",
    "weights2 = np.array([-1, 1])\n",
    "weights3 = np.array([1, 1])\n",
    "threshold = 1\n",
    "\n",
    "neuron1 = McCullochPitts(weights1, threshold)\n",
    "neuron2 = McCullochPitts(weights2, threshold)\n",
    "neuron3 = McCullochPitts(weights3, threshold)\n",
    "\n",
    "for inp in inputs:\n",
    "    op1 = neuron1.predict(inp)\n",
    "    op2 = neuron2.predict(inp)\n",
    "    new_ip = np.array([op1, op2])\n",
    "    xor_op = neuron3.predict(new_ip)\n",
    "    print(f\"Inputs: {inp}, Intermediate1: {op1}, Intermediate2: {op2}, XOR_output: {xor_op}\")"
   ]
  },
  {
   "cell_type": "markdown",
   "id": "55c97a7f-19de-4f16-9abd-4cc1f5d32c14",
   "metadata": {
    "jp-MarkdownHeadingCollapsed": true
   },
   "source": [
    "# 2. Perceptron"
   ]
  },
  {
   "cell_type": "code",
   "execution_count": 28,
   "id": "24ad4fec-68bb-4b17-82d8-6c526213b497",
   "metadata": {},
   "outputs": [],
   "source": [
    "import numpy as np\n",
    "\n",
    "class Perceptron:\n",
    "    def __init__(self, learning_rate = 0.01, epochs = 10):\n",
    "        self.lr = learning_rate\n",
    "        self.epochs = epochs\n",
    "        self.activation_func = self._unit_step_func\n",
    "        self.weights = None\n",
    "        self.bias = None\n",
    "\n",
    "    def fit(self, X, y):\n",
    "        n_samples, n_features = X.shape\n",
    "        self.weights = np.zeros(n_features)\n",
    "        self.bias = 0\n",
    "        y_ = np.array([1 if i > 0 else 0 for i in y])\n",
    "        for _ in range(self.epochs):\n",
    "            for index, x_i in enumerate(X):\n",
    "                linear_output = np.dot(x_i, self.weights) + self.bias\n",
    "                y_predicted = self.activation_func(linear_output)\n",
    "                update = self.lr * (y_[index] - y_predicted)\n",
    "                self.weights += update * x_i\n",
    "                self.bias += update\n",
    "\n",
    "    def predict(self, X):\n",
    "        linear_op = np.dot(X, self.weights) + self.bias\n",
    "        y_predicted = self.activation_func(linear_op)\n",
    "        return y_predicted\n",
    "\n",
    "    def _unit_step_func(self, x):\n",
    "        return np.where(x >= 0, 1, 0)\n"
   ]
  },
  {
   "cell_type": "code",
   "execution_count": 29,
   "id": "19152344-1ac4-420d-a30e-71262daba8d2",
   "metadata": {},
   "outputs": [
    {
     "name": "stdout",
     "output_type": "stream",
     "text": [
      "Input: [0 0], Prediction: 0\n",
      "Input: [0 1], Prediction: 0\n",
      "Input: [1 0], Prediction: 0\n",
      "Input: [1 1], Prediction: 1\n",
      "\n",
      "Predictions for new data [[0.5 0.2]\n",
      " [1.1 0.8]]: [0 1]\n"
     ]
    }
   ],
   "source": [
    "# AND Gate\n",
    "\n",
    "if __name__ == '__main__':\n",
    "    X_and = np.array([[0, 0], [0, 1], [1, 0], [1, 1]])\n",
    "    y_and = np.array([0, 0, 0, 1])\n",
    "    perceptron_and = Perceptron(learning_rate=0.1, epochs=20)\n",
    "    perceptron_and.fit(X_and, y_and)\n",
    "    for input_data in X_and:\n",
    "        prediction = perceptron_and.predict(np.array([input_data]))[0]\n",
    "        print(f\"Input: {input_data}, Prediction: {prediction}\")\n",
    "    test_data = np.array([[0.5, 0.2], [1.1, 0.8]])\n",
    "    predictions = perceptron_and.predict(test_data)\n",
    "    print(f\"\\nPredictions for new data {test_data}: {predictions}\")"
   ]
  },
  {
   "cell_type": "code",
   "execution_count": 30,
   "id": "1a4b1366-ae75-4fce-a48a-a050cf920fd3",
   "metadata": {},
   "outputs": [
    {
     "name": "stdout",
     "output_type": "stream",
     "text": [
      "Input: [0 0], Prediction: 0\n",
      "Input: [0 1], Prediction: 1\n",
      "Input: [1 0], Prediction: 1\n",
      "Input: [1 1], Prediction: 1\n",
      "\n",
      "Predictions for new data [[0.5 0.2]\n",
      " [1.1 0.8]]: [0 1]\n"
     ]
    }
   ],
   "source": [
    "# OR Gate\n",
    "\n",
    "if __name__ == '__main__':\n",
    "    X_or = np.array([[0, 0], [0, 1], [1, 0], [1, 1]])\n",
    "    y_or = np.array([0, 1, 1, 1])\n",
    "    perceptron_or = Perceptron(learning_rate=0.1, epochs=20)\n",
    "    perceptron_or.fit(X_or, y_or)\n",
    "    for input_data in X_or:\n",
    "        prediction = perceptron_or.predict(np.array([input_data]))[0]\n",
    "        print(f\"Input: {input_data}, Prediction: {prediction}\")\n",
    "    test_data = np.array([[0.5, 0.2], [1.1, 0.8]])\n",
    "    predictions = perceptron_or.predict(test_data)\n",
    "    print(f\"\\nPredictions for new data {test_data}: {predictions}\")"
   ]
  },
  {
   "cell_type": "markdown",
   "id": "5a3b714a-abc9-4ca7-b59d-b705a2dedfbf",
   "metadata": {
    "jp-MarkdownHeadingCollapsed": true
   },
   "source": [
    "# 3. Adaline"
   ]
  },
  {
   "cell_type": "code",
   "execution_count": 40,
   "id": "c23bc223-b19e-4a31-bc74-cb604fc660c3",
   "metadata": {},
   "outputs": [],
   "source": [
    "import numpy as np\n",
    "\n",
    "class Adaline:\n",
    "    def __init__(self, learning_rate=0.01, epochs=100):\n",
    "        self.lr = learning_rate\n",
    "        self.epochs = epochs\n",
    "        self.weights = None\n",
    "        self.bias = None\n",
    "        self.cost_history = []\n",
    "\n",
    "    def fit(self, X, y):\n",
    "        n_samples, n_features = X.shape\n",
    "        self.weights = np.zeros(n_features)\n",
    "        self.bias = 0\n",
    "        y_ = np.array([1 if i > 0 else -1 for i in y])\n",
    "\n",
    "        for _ in range(self.epochs):\n",
    "            linear_output = np.dot(X, self.weights) + self.bias\n",
    "            errors = (y_ - linear_output)\n",
    "            self.weights += self.lr * np.dot(X.T, errors) / n_samples\n",
    "            self.bias += self.lr * np.sum(errors) / n_samples\n",
    "            cost = np.sum(errors ** 2) / (2 * n_samples)\n",
    "            self.cost_history.append(cost)\n",
    "\n",
    "    def predict(self, X):\n",
    "        linear_output = np.dot(X, self.weights) + self.bias\n",
    "        return np.where(linear_output >= 0, 1, 0)\n",
    "\n",
    "    def predict_raw(self, X):\n",
    "        return np.dot(X, self.weights) + self.bias"
   ]
  },
  {
   "cell_type": "code",
   "execution_count": 32,
   "id": "98b91762-3b34-4aa8-ae16-38ddb8efa338",
   "metadata": {},
   "outputs": [
    {
     "name": "stdout",
     "output_type": "stream",
     "text": [
      "Input: [0 0], Prediction: 0, Raw Output: -1.2295\n",
      "Input: [0 1], Prediction: 0, Raw Output: -0.4575\n",
      "Input: [1 0], Prediction: 0, Raw Output: -0.4575\n",
      "Input: [1 1], Prediction: 1, Raw Output: 0.3144\n"
     ]
    }
   ],
   "source": [
    "# AND gate\n",
    "X_and = np.array([[0, 0], [0, 1], [1, 0], [1, 1]])\n",
    "y_and = np.array([0, 0, 0, 1])\n",
    "\n",
    "adaline_and = Adaline(learning_rate=0.1, epochs=100)\n",
    "adaline_and.fit(X_and, y_and)\n",
    "\n",
    "for input_data in X_and:\n",
    "    prediction = adaline_and.predict(np.array([input_data]))[0]\n",
    "    raw_output = adaline_and.predict_raw(np.array([input_data]))[0]\n",
    "    print(f\"Input: {input_data}, Prediction: {prediction}, Raw Output: {raw_output:.4f}\")"
   ]
  },
  {
   "cell_type": "code",
   "execution_count": 33,
   "id": "807bd0c2-0e45-499d-8e68-96f0e13a512b",
   "metadata": {},
   "outputs": [
    {
     "name": "stdout",
     "output_type": "stream",
     "text": [
      "Input: [0 0], Prediction: 0, Raw Output: -0.3144\n",
      "Input: [0 1], Prediction: 1, Raw Output: 0.5291\n",
      "Input: [1 0], Prediction: 1, Raw Output: 0.5291\n",
      "Input: [1 1], Prediction: 1, Raw Output: 1.3726\n"
     ]
    }
   ],
   "source": [
    "# OR Gate\n",
    "X_or = np.array([[0, 0], [0, 1], [1, 0], [1, 1]])\n",
    "y_or = np.array([0, 1, 1, 1])\n",
    "\n",
    "adaline_or = Adaline(learning_rate=0.1, epochs=100)\n",
    "adaline_or.fit(X_or, y_or)\n",
    "\n",
    "for input_data in X_or:\n",
    "    prediction = adaline_or.predict(np.array([input_data]))[0]\n",
    "    raw_output = adaline_or.predict_raw(np.array([input_data]))[0]\n",
    "    print(f\"Input: {input_data}, Prediction: {prediction}, Raw Output: {raw_output:.4f}\")"
   ]
  },
  {
   "cell_type": "markdown",
   "id": "94a92d84-9a95-475b-a2e3-96598888173c",
   "metadata": {
    "jp-MarkdownHeadingCollapsed": true
   },
   "source": [
    "# 4. Madaline"
   ]
  },
  {
   "cell_type": "code",
   "execution_count": 51,
   "id": "9e61616f-cbcc-4395-b463-b0c9337f9e6f",
   "metadata": {},
   "outputs": [],
   "source": [
    "import numpy as np\n",
    "\n",
    "class Adaline:\n",
    "    def __init__(self, learning_rate=0.01, epochs=100):\n",
    "        self.lr = learning_rate\n",
    "        self.epochs = epochs\n",
    "        self.weights = None\n",
    "        self.bias = None\n",
    "        self.cost_history = []\n",
    "\n",
    "    def fit(self, X, y):\n",
    "        n_samples, n_features = X.shape\n",
    "        if self.weights is None:\n",
    "            self.weights = np.zeros(n_features)\n",
    "        if self.bias is None:\n",
    "            self.bias = 0\n",
    "        y_ = np.array([1 if i > 0 else -1 for i in y])\n",
    "\n",
    "        for _ in range(self.epochs):\n",
    "            linear_output = np.dot(X, self.weights) + self.bias\n",
    "            errors = (y_ - linear_output)\n",
    "            self.weights += self.lr * np.dot(X.T, errors) / n_samples\n",
    "            self.bias += self.lr * np.sum(errors) / n_samples\n",
    "            cost = np.sum(errors ** 2) / (2 * n_samples)\n",
    "            self.cost_history.append(cost)\n",
    "\n",
    "    def predict(self, X):\n",
    "        linear_output = np.dot(X, self.weights) + self.bias\n",
    "        return np.where(linear_output >= 0, 1, 0)\n",
    "\n",
    "    def predict_raw(self, X):\n",
    "        if self.weights is None:\n",
    "            return 0  # Or raise an exception:  raise ValueError(\"Adaline weights are not initialized\")\n",
    "        return np.dot(X, self.weights) + self.bias\n",
    "\n",
    "class Madaline:\n",
    "    def __init__(self, num_hidden_nodes, learning_rate=0.01, epochs=100):\n",
    "        self.num_hidden = num_hidden_nodes\n",
    "        self.lr = learning_rate\n",
    "        self.epochs = epochs\n",
    "        self.hidden_neurons = [Adaline(learning_rate=learning_rate, epochs=epochs) for _ in range(num_hidden_nodes)]\n",
    "        self.output_weights = np.ones(num_hidden_nodes)\n",
    "        self.output_bias = 0\n",
    "        self.cost_history = []\n",
    "\n",
    "    def fit(self, X, y):\n",
    "        n_samples = X.shape[0]\n",
    "        for epoch in range(self.epochs):\n",
    "            epoch_cost = 0\n",
    "            for i in range(n_samples):\n",
    "                xi = X[i]\n",
    "                ti = 1 if y[i] > 0 else -1\n",
    "\n",
    "                # Initialize hidden neuron weights if they are None\n",
    "                for neuron in self.hidden_neurons:\n",
    "                    if neuron.weights is None:\n",
    "                        neuron.fit(np.array([xi]), np.array([ti]))  # Give it a single sample to init.\n",
    "\n",
    "                hidden_outputs = np.array([neuron.predict_raw(np.array([xi])) for neuron in self.hidden_neurons])\n",
    "                hidden_predictions = np.where(hidden_outputs >= 0, 1, -1)\n",
    "                output_sum = np.sum(hidden_predictions * self.output_weights) + self.output_bias\n",
    "\n",
    "                if not isinstance(output_sum, (int, float)):\n",
    "                    print(f\"Error: output_sum is not a number.  output_sum = {output_sum}, hidden_predictions = {hidden_predictions}, output_weights = {self.output_weights}, output_bias = {self.output_bias}\")\n",
    "                    output_sum = 0  # Default to 0 if it's not a number to avoid the TypeError.\n",
    "                \n",
    "                network_output = 1 if output_sum >= 0 else -1\n",
    "\n",
    "                if network_output != ti:\n",
    "                    if ti == 1:\n",
    "                        neg_output_neurons_indices = np.where(hidden_predictions == -1)[0]\n",
    "                        if neg_output_neurons_indices.size > 0:\n",
    "                            best_neuron_index = neg_output_neurons_indices[np.argmin(hidden_outputs[neg_output_neurons_indices])]\n",
    "                            self.hidden_neurons[best_neuron_index].fit(np.array([xi]), np.array([1]))\n",
    "                    elif ti == -1:\n",
    "                        pos_output_neurons_indices = np.where(hidden_predictions == 1)[0]\n",
    "                        for neuron_index in pos_output_neurons_indices:\n",
    "                            self.hidden_neurons[neuron_index].fit(np.array([xi]), np.array([-1]))\n",
    "                error = ti - output_sum\n",
    "                sample_cost = error**2 / 2\n",
    "                epoch_cost += sample_cost\n",
    "\n",
    "            epoch_cost /= n_samples\n",
    "            self.cost_history.append(epoch_cost)\n",
    "\n",
    "    def predict(self, X):\n",
    "        predictions = []\n",
    "        for xi in X:\n",
    "            hidden_outputs = np.array([neuron.predict_raw(np.array([xi])) for neuron in self.hidden_neurons])\n",
    "            hidden_predictions = np.where(hidden_outputs >= 0, 1, -1)\n",
    "            output_sum = np.sum(hidden_predictions * self.output_weights) + self.output_bias\n",
    "            predictions.append(1 if output_sum >= 0 else 0)\n",
    "        return np.array(predictions)\n"
   ]
  },
  {
   "cell_type": "code",
   "execution_count": 53,
   "id": "8ff07873-abef-4f2b-a2a2-062eeed3e161",
   "metadata": {},
   "outputs": [
    {
     "name": "stdout",
     "output_type": "stream",
     "text": [
      "MADALINE for XOR gate:\n",
      "Input: [0 0], Predicted: 0, Actual: 0\n",
      "Input: [0 1], Predicted: 1, Actual: 1\n",
      "Input: [1 0], Predicted: 1, Actual: 1\n",
      "Input: [1 1], Predicted: 0, Actual: 0\n"
     ]
    }
   ],
   "source": [
    "# XOR Gate\n",
    "X_xor = np.array([[0, 0], [0, 1], [1, 0], [1, 1]])\n",
    "y_xor = np.array([0, 1, 1, 0])\n",
    "\n",
    "# Create and train the Madaline network\n",
    "madaline_xor = Madaline(num_hidden_nodes=2, learning_rate=0.1, epochs=500)\n",
    "madaline_xor.fit(X_xor, y_xor)\n",
    "\n",
    "# Test the network\n",
    "print(\"MADALINE for XOR gate:\")\n",
    "predictions = madaline_xor.predict(X_xor)\n",
    "for i in range(len(X_xor)):\n",
    "    print(f\"Input: {X_xor[i]}, Predicted: {predictions[i]}, Actual: {y_xor[i]}\")\n",
    "    "
   ]
  },
  {
   "cell_type": "markdown",
   "id": "b8dd2295-f7f1-49e0-91f0-a049e175c23f",
   "metadata": {
    "jp-MarkdownHeadingCollapsed": true
   },
   "source": [
    "# 5. Back Propagation"
   ]
  },
  {
   "cell_type": "code",
   "execution_count": 55,
   "id": "eead357a-d747-46fa-8679-ee7372c491be",
   "metadata": {},
   "outputs": [],
   "source": [
    "import numpy as np\n",
    "\n",
    "class NeuralNetwork:\n",
    "    def __init__(self, input_size, hidden_size, output_size, learning_rate=0.1):\n",
    "        \"\"\"\n",
    "        Initializes the neural network.\n",
    "\n",
    "        Args:\n",
    "            input_size: Number of input neurons.\n",
    "            hidden_size: Number of neurons in the hidden layer.\n",
    "            output_size: Number of output neurons.\n",
    "            learning_rate: The learning rate for weight updates.\n",
    "        \"\"\"\n",
    "        self.input_size = input_size\n",
    "        self.hidden_size = hidden_size\n",
    "        self.output_size = output_size\n",
    "        self.learning_rate = learning_rate\n",
    "\n",
    "        # Initialize weights with small random values\n",
    "        self.weights_input_hidden = np.random.randn(self.input_size, self.hidden_size) * 0.01\n",
    "        self.bias_hidden = np.zeros((1, self.hidden_size))\n",
    "\n",
    "        self.weights_hidden_output = np.random.randn(self.hidden_size, self.output_size) * 0.01\n",
    "        self.bias_output = np.zeros((1, self.output_size))\n",
    "\n",
    "    def sigmoid(self, x):\n",
    "        \"\"\"\n",
    "        Sigmoid activation function.\n",
    "\n",
    "        Args:\n",
    "            x: Input to the sigmoid function.\n",
    "\n",
    "        Returns:\n",
    "            The sigmoid output.\n",
    "        \"\"\"\n",
    "        return 1 / (1 + np.exp(-x))\n",
    "\n",
    "    def sigmoid_derivative(self, x):\n",
    "        \"\"\"\n",
    "        Derivative of the sigmoid function.\n",
    "\n",
    "        Args:\n",
    "            x: Input to the sigmoid function.\n",
    "\n",
    "        Returns:\n",
    "            The derivative of the sigmoid output.\n",
    "        \"\"\"\n",
    "        return x * (1 - x)\n",
    "\n",
    "    def forward(self, x):\n",
    "        \"\"\"\n",
    "        Performs forward propagation.\n",
    "\n",
    "        Args:\n",
    "            x: Input to the network.\n",
    "\n",
    "        Returns:\n",
    "            A tuple containing the output of the hidden layer,\n",
    "            the output of the network, and the input x.  These are\n",
    "            saved for use in backpropagation.\n",
    "        \"\"\"\n",
    "        self.input_layer_output = x  #shape(1,input_size)\n",
    "        self.hidden_layer_input = np.dot(x, self.weights_input_hidden) + self.bias_hidden #shape(1,hidden_size)\n",
    "        self.hidden_layer_output = self.sigmoid(self.hidden_layer_input) #shape(1,hidden_size)\n",
    "        self.output_layer_input = np.dot(self.hidden_layer_output, self.weights_hidden_output) + self.bias_output #shape(1,output_size)\n",
    "        self.output_layer_output = self.sigmoid(self.output_layer_input) #shape(1,output_size)\n",
    "\n",
    "        return self.hidden_layer_output, self.output_layer_output, x\n",
    "\n",
    "    def backward(self, y, output, hidden_layer_output, x):\n",
    "        \"\"\"\n",
    "        Performs backpropagation.\n",
    "\n",
    "        Args:\n",
    "            y: Target output.\n",
    "            output: Predicted output.\n",
    "            hidden_layer_output: Output of the hidden layer.\n",
    "            x: Input to the network.\n",
    "        \"\"\"\n",
    "        # Calculate the error\n",
    "        error_output = y - output  # shape(1,output_size)\n",
    "\n",
    "        # Calculate the gradients\n",
    "        delta_output = error_output * self.sigmoid_derivative(output) #shape(1,output_size)\n",
    "        error_hidden = delta_output.dot(self.weights_hidden_output.T) #shape(1,hidden_size)\n",
    "        delta_hidden = error_hidden * self.sigmoid_derivative(hidden_layer_output) #shape(1,hidden_size)\n",
    "\n",
    "        # Update weights and biases\n",
    "        self.weights_hidden_output += hidden_layer_output.T.dot(delta_output) * self.learning_rate #shape(hidden_size, output_size)\n",
    "        self.bias_output += np.sum(delta_output, axis=0, keepdims=True) * self.learning_rate #shape(1, output_size)\n",
    "        self.weights_input_hidden += x.T.dot(delta_hidden) * self.learning_rate #shape(input_size, hidden_size)\n",
    "        self.bias_hidden += np.sum(delta_hidden, axis=0, keepdims=True) * self.learning_rate #shape(1, hidden_size)\n",
    "\n",
    "    def train(self, X, y, epochs):\n",
    "        \"\"\"\n",
    "        Trains the neural network.\n",
    "\n",
    "        Args:\n",
    "            X: Input data.\n",
    "            y: Target data.\n",
    "            epochs: Number of training epochs.\n",
    "        \"\"\"\n",
    "        for epoch in range(epochs):\n",
    "            for i in range(X.shape[0]):\n",
    "                # Forward propagation\n",
    "                hidden_output, output, input_x = self.forward(X[i:i+1]) #shape of X[i:i+1] is (1, input_size)\n",
    "                # Backward propagation\n",
    "                self.backward(y[i:i+1], output, hidden_output, input_x)\n",
    "\n",
    "            # Print the cost every 100 epochs\n",
    "            if (epoch + 1) % 100 == 0:\n",
    "                predictions = self.predict(X)\n",
    "                cost = np.mean((y - predictions) ** 2)\n",
    "                print(f\"Epoch {epoch + 1}, Cost: {cost:.4f}\")\n",
    "\n",
    "    def predict(self, X):\n",
    "        \"\"\"\n",
    "        Predicts the output for a given input.\n",
    "\n",
    "        Args:\n",
    "            X: Input data.\n",
    "\n",
    "        Returns:\n",
    "            The predicted output.\n",
    "        \"\"\"\n",
    "        _, output, _ = self.forward(X)\n",
    "        return np.round(output)\n"
   ]
  },
  {
   "cell_type": "code",
   "execution_count": 56,
   "id": "d4f194a3-b205-46a5-a645-b59954e78c85",
   "metadata": {},
   "outputs": [
    {
     "name": "stdout",
     "output_type": "stream",
     "text": [
      "Epoch 100, Cost: 0.5000\n",
      "Epoch 200, Cost: 0.5000\n",
      "Epoch 300, Cost: 0.5000\n",
      "Epoch 400, Cost: 0.5000\n",
      "Epoch 500, Cost: 0.5000\n",
      "Epoch 600, Cost: 0.7500\n",
      "Epoch 700, Cost: 0.5000\n",
      "Epoch 800, Cost: 0.5000\n",
      "Epoch 900, Cost: 0.5000\n",
      "Epoch 1000, Cost: 0.5000\n",
      "Predictions:\n",
      "[[0.]\n",
      " [1.]\n",
      " [0.]\n",
      " [1.]]\n"
     ]
    }
   ],
   "source": [
    "# XOR Gate\n",
    "X = np.array([[0, 0], [0, 1], [1, 0], [1, 1]])\n",
    "y = np.array([[0], [1], [1], [0]])\n",
    "\n",
    "# Create a neural network with 2 input neurons, 2 hidden neurons, and 1 output neuron\n",
    "nn = NeuralNetwork(input_size=2, hidden_size=2, output_size=1, learning_rate=0.1)\n",
    "\n",
    "# Train the neural network\n",
    "nn.train(X, y, epochs=1000)\n",
    "\n",
    "# Make predictions\n",
    "predictions = nn.predict(X)\n",
    "print(\"Predictions:\")\n",
    "print(predictions)"
   ]
  },
  {
   "cell_type": "markdown",
   "id": "38e59ac7-2e05-45bc-aa5e-b0821f5ca58c",
   "metadata": {
    "jp-MarkdownHeadingCollapsed": true
   },
   "source": [
    "# 6. Primitive operations on classicals sets "
   ]
  },
  {
   "cell_type": "code",
   "execution_count": 57,
   "id": "e7800d0c-4b33-4385-92cc-060779c5459c",
   "metadata": {},
   "outputs": [
    {
     "name": "stdout",
     "output_type": "stream",
     "text": [
      "Union: {1, 2, 3, 4, 5, 6, 7, 8}\n",
      "Intersection: {4, 5}\n",
      "Difference (set1 - set2): {1, 2, 3}\n",
      "Difference (set2 - set1): {8, 6, 7}\n",
      "Symmetric Difference: {1, 2, 3, 6, 7, 8}\n"
     ]
    }
   ],
   "source": [
    "set1 = {1, 2, 3, 4, 5}\n",
    "set2 = {4, 5, 6, 7, 8}\n",
    "\n",
    "union_result = set1.union(set2)\n",
    "print(f\"Union: {union_result}\")\n",
    "\n",
    "intersection_result = set1.intersection(set2)\n",
    "print(f\"Intersection: {intersection_result}\")\n",
    "\n",
    "difference_result1 = set1.difference(set2)\n",
    "difference_result2 = set2.difference(set1)\n",
    "print(f\"Difference (set1 - set2): {difference_result1}\")\n",
    "print(f\"Difference (set2 - set1): {difference_result2}\")\n",
    "\n",
    "symmetric_difference_result = set1.symmetric_difference(set2)\n",
    "print(f\"Symmetric Difference: {symmetric_difference_result}\")"
   ]
  },
  {
   "cell_type": "markdown",
   "id": "f5a22b45-7d06-4b33-9578-e04b5a50278f",
   "metadata": {
    "jp-MarkdownHeadingCollapsed": true
   },
   "source": [
    "# 7. Primitive operations on fuzzy sets"
   ]
  },
  {
   "cell_type": "code",
   "execution_count": 64,
   "id": "0f0a047a-e0c9-4039-a7c5-eeeda1053be7",
   "metadata": {},
   "outputs": [
    {
     "name": "stdout",
     "output_type": "stream",
     "text": [
      "The 1st Fuzzy Set is : {'A': 0.2, 'B': 0.3, 'C': 0.6, 'D': 0.6}\n",
      "The 2nd Fuzzy Set is: {'A': 0.9, 'B': 0.9, 'C': 0.4, 'D': 0.5}\n",
      "\n",
      "Fuzzy Set Union is : {'A': 0.9, 'B': 0.9, 'C': 0.6, 'D': 0.6}\n",
      "\n",
      "Fuzzy Set Intersection is : {'A': 0.2, 'B': 0.3, 'C': 0.4, 'D': 0.6}\n",
      "\n",
      "Fuzzy Set Intersection is : {'A': 0.2, 'B': 0.3, 'C': 0.4, 'D': 0.5}\n",
      "\n",
      "Fuzzy Set Complement of A: {'A': 0.8, 'B': 0.3, 'C': 0.4, 'D': 0.5}\n",
      "\n",
      "Fuzzy Set Complement of B: {'A': 0.1}\n",
      "\n",
      "Fuzzy Set Complement of A: {'A': 0.8, 'B': 0.7, 'C': 0.4, 'D': 0.5}\n",
      "\n",
      "Fuzzy Set Complement of B: {'A': 0.1, 'B': 0.1}\n",
      "\n",
      "Fuzzy Set Complement of A: {'A': 0.8, 'B': 0.7, 'C': 0.4, 'D': 0.5}\n",
      "\n",
      "Fuzzy Set Complement of B: {'A': 0.1, 'B': 0.1, 'C': 0.6}\n",
      "\n",
      "Fuzzy Set Complement of A: {'A': 0.8, 'B': 0.7, 'C': 0.4, 'D': 0.4}\n",
      "\n",
      "Fuzzy Set Complement of B: {'A': 0.1, 'B': 0.1, 'C': 0.6, 'D': 0.5}\n",
      "\n",
      "Fuzzy Set Difference is : {'A': 0.1, 'B': 0.7, 'C': 0.4, 'D': 0.4}\n",
      "\n",
      "Fuzzy Set Difference is : {'A': 0.1, 'B': 0.1, 'C': 0.4, 'D': 0.4}\n",
      "\n",
      "Fuzzy Set Difference is : {'A': 0.1, 'B': 0.1, 'C': 0.6, 'D': 0.4}\n",
      "\n",
      "Fuzzy Set Difference is : {'A': 0.1, 'B': 0.1, 'C': 0.6, 'D': 0.5}\n"
     ]
    }
   ],
   "source": [
    "A = dict()\n",
    "B= dict()\n",
    "Y = dict()\n",
    "Z= dict()\n",
    "A={\"A\":0.2, \"B\":0.3 ,\"C\":0.6,\"D\":0.6}\n",
    "B={\"A\":0.9, \"B\":0.9 ,\"C\":0.4,\"D\":0.5}\n",
    "print('The 1st Fuzzy Set is :', A)\n",
    "print('The 2nd Fuzzy Set is:', B)\n",
    "\n",
    "#union\n",
    "for A_key, B_key in zip(A, B):\n",
    "    if A[A_key ]>B[B_key]:\n",
    "        Y[A_key ]=A[A_key]\n",
    "    else:\n",
    "        Y[B_key]=B[B_key]\n",
    "print('\\nFuzzy Set Union is :', Y)\n",
    "\n",
    "#intersection\n",
    "for A_key, B_key in zip(A, B):\n",
    "    if A[A_key] < B[B_key]:\n",
    "        Y[A_key ]=A[A_key]\n",
    "    else:\n",
    "        Y[B_key]=B[B_key]\n",
    "        print('\\nFuzzy Set Intersection is :', Y)\n",
    "\n",
    "# Complement\n",
    "for A_key in A:\n",
    "    Y[A_key] = round(1 - A[A_key], 2)\n",
    "    Z[A_key] = round(1 - B[A_key], 2)\n",
    "    print('\\nFuzzy Set Complement of A:', Y)\n",
    "    print('\\nFuzzy Set Complement of B:', Z)\n",
    "\n",
    "# Difference\n",
    "for A_key, B_key in zip(A, B):\n",
    "    if A[A_key]<(1-B[B_key]):\n",
    "        Y[A_key]= round(A[A_key], 2)\n",
    "    else:\n",
    "        Y[B_key] = round(1-B[B_key], 2)\n",
    "        print('\\nFuzzy Set Difference is :', Y)"
   ]
  },
  {
   "cell_type": "code",
   "execution_count": 63,
   "id": "144fac2a-20ca-4646-89e9-d1895989be43",
   "metadata": {},
   "outputs": [
    {
     "data": {
      "image/png": "[encoded data removed]",
      "text/plain": [
       "<Figure size 640x480 with 1 Axes>"
      ]
     },
     "metadata": {},
     "output_type": "display_data"
    },
    {
     "data": {
      "image/png": "[encoded data removed]",
      "text/plain": [
       "<Figure size 640x480 with 1 Axes>"
      ]
     },
     "metadata": {},
     "output_type": "display_data"
    },
    {
     "data": {
      "image/png": "[encoded data removed]",
      "text/plain": [
       "<Figure size 640x480 with 1 Axes>"
      ]
     },
     "metadata": {},
     "output_type": "display_data"
    },
    {
     "data": {
      "image/png": "[encoded data removed]",
      "text/plain": [
       "<Figure size 640x480 with 1 Axes>"
      ]
     },
     "metadata": {},
     "output_type": "display_data"
    },
    {
     "data": {
      "image/png": "[encoded data removed]",
      "text/plain": [
       "<Figure size 640x480 with 1 Axes>"
      ]
     },
     "metadata": {},
     "output_type": "display_data"
    },
    {
     "data": {
      "image/png": "[encoded data removed]",
      "text/plain": [
       "<Figure size 640x480 with 1 Axes>"
      ]
     },
     "metadata": {},
     "output_type": "display_data"
    }
   ],
   "source": [
    "import numpy as np\n",
    "import matplotlib.pyplot as plt\n",
    "\n",
    "def plot_fuzzy_set(x, membership, title):\n",
    "    plt.plot(x, membership)\n",
    "    plt.title(title)\n",
    "    plt.xlabel('x')\n",
    "    plt.ylabel('Membership (μ(x))')\n",
    "    plt.grid(True)\n",
    "    plt.show()\n",
    "\n",
    "def bell_shaped_membership(x, a, b, c):\n",
    "    return 1 / (1 + np.abs((x - c) / a)**(2 * b))\n",
    "\n",
    "def fuzzy_union(set1, set2):\n",
    "    return np.maximum(set1, set2)\n",
    "\n",
    "def fuzzy_intersection(set1, set2):\n",
    "    return np.minimum(set1, set2)\n",
    "\n",
    "def fuzzy_complement(set1):\n",
    "    return 1 - set1\n",
    "\n",
    "def fuzzy_difference(set1, set2):\n",
    "    return np.minimum(set1, fuzzy_complement(set2))\n",
    "\n",
    "def fuzzy_symmetric_difference(set1, set2):\n",
    "    return fuzzy_union(fuzzy_difference(set1, set2), fuzzy_difference(set2, set1))\n",
    "\n",
    "if __name__ == \"__main__\":\n",
    "    x = np.linspace(0, 10, 1000)\n",
    "    a = 2\n",
    "    b = 4\n",
    "    c = 5\n",
    "    membership_values = bell_shaped_membership(x, a, b, c)\n",
    "    plot_fuzzy_set(x, membership_values, \"Bell-Shaped Membership Function (Close to 1)\")\n",
    "    \n",
    "    fuzzy_set1 = bell_shaped_membership(x, 2, 4, 3)\n",
    "    fuzzy_set2 = bell_shaped_membership(x, 2.5, 3, 6)\n",
    "    \n",
    "    union_result = fuzzy_union(fuzzy_set1, fuzzy_set2)\n",
    "    intersection_result = fuzzy_intersection(fuzzy_set1, fuzzy_set2)\n",
    "    complement_result = fuzzy_complement(fuzzy_set1)\n",
    "    difference_result = fuzzy_difference(fuzzy_set1, fuzzy_set2)\n",
    "    symmetric_difference_result = fuzzy_symmetric_difference(fuzzy_set1, fuzzy_set2)\n",
    "    \n",
    "    plot_fuzzy_set(x, union_result, \"Fuzzy Union\")\n",
    "    plot_fuzzy_set(x, intersection_result, \"Fuzzy Intersection\")\n",
    "    plot_fuzzy_set(x, complement_result, \"Fuzzy Complement\")\n",
    "    plot_fuzzy_set(x, difference_result, \"Fuzzy Difference (Set1 - Set2)\")\n",
    "    plot_fuzzy_set(x, symmetric_difference_result, \"Fuzzy Symmetric Difference\")\n"
   ]
  },
  {
   "cell_type": "markdown",
   "id": "3e3fb984-270e-471e-b3ff-0d881132a2a3",
   "metadata": {
    "jp-MarkdownHeadingCollapsed": true
   },
   "source": [
    "# 8. Maximize f(x1+x2) = 4x1 + 3x2 using genetic algorithm"
   ]
  },
  {
   "cell_type": "code",
   "execution_count": 72,
   "id": "15b14a59-4ee5-4fde-a46f-04165cbd476b",
   "metadata": {},
   "outputs": [
    {
     "name": "stdout",
     "output_type": "stream",
     "text": [
      "Generation 1: Best solution = (9.320644908925882, 7.63732439285933), Best fitness = 60.1946\n",
      "Generation 2: Best solution = [8.98665317656759, 9.791264912967566], Best fitness = 65.3204\n",
      "Generation 3: Best solution = [9.227656578669084, 9.791264912967566], Best fitness = 66.2844\n",
      "Generation 4: Best solution = [9.227656578669084, 9.791264912967566], Best fitness = 66.2844\n",
      "\n",
      "Final Best Solution (x1, x2): [9.227656578669084, 9.791264912967566]\n",
      "Final Best Fitness: 66.28442105357904\n"
     ]
    }
   ],
   "source": [
    "import random\n",
    "\n",
    "def objective_function(x1, x2):\n",
    "    \"\"\"Calculates the objective function value: 4*x1 + 3*x2.\"\"\"\n",
    "    return 4 * x1 + 3 * x2\n",
    "\n",
    "def fitness_function(x1, x2):\n",
    "    \"\"\"Calculates the fitness value.  For maximization, fitness is the same as the objective.\"\"\"\n",
    "    return objective_function(x1, x2)\n",
    "\n",
    "def select_parent(population, fitness_values):\n",
    "    \"\"\"Selects a parent using roulette wheel selection.\"\"\"\n",
    "    total_fitness = sum(fitness_values)\n",
    "    probabilities = [f / total_fitness for f in fitness_values]\n",
    "    cumulative_probabilities = [sum(probabilities[:i + 1]) for i in range(len(probabilities))]\n",
    "    r = random.random()\n",
    "    for i, c in enumerate(cumulative_probabilities):\n",
    "        if c >= r:\n",
    "            return population[i]\n",
    "    return population[-1]\n",
    "\n",
    "def crossover(parent1, parent2, crossover_rate=0.7):\n",
    "    \"\"\"Performs single-point crossover with a given probability.\"\"\"\n",
    "    if random.random() < crossover_rate:\n",
    "        pt = random.randint(0, len(parent1) - 1)\n",
    "        child1 = parent1[:pt] + parent2[pt:]\n",
    "        child2 = parent2[:pt] + parent1[pt:]\n",
    "        return child1, child2\n",
    "    else:\n",
    "        return parent1, parent2\n",
    "\n",
    "def mutate(individual, mutation_rate=0.01, x1_min=-10, x1_max=10, x2_min=-10, x2_max=10):\n",
    "    \"\"\"Mutates an individual with a given probability.\"\"\"\n",
    "    mutated_individual = list(individual)\n",
    "    if random.random() < mutation_rate:\n",
    "        mutated_individual[0] = random.uniform(x1_min, x1_max)  # Mutate x1\n",
    "    if random.random() < mutation_rate:\n",
    "        mutated_individual[1] = random.uniform(x2_min, x2_max)  # Mutate x2\n",
    "    return mutated_individual\n",
    "\n",
    "def genetic_algorithm(population_size=100, generations=200, crossover_rate=0.7, mutation_rate=0.01,\n",
    "                      x1_min=-10, x1_max=10, x2_min=-10, x2_max=10):\n",
    "    \"\"\"\n",
    "    Implements a genetic algorithm to maximize the function f(x1, x2) = 4*x1 + 3*x2.\n",
    "    Prints generation, best result, and final result.\n",
    "    \"\"\"\n",
    "    # Initialize population with (x1, x2) pairs\n",
    "    population = [(random.uniform(x1_min, x1_max), random.uniform(x2_min, x2_max)) for _ in range(population_size)]\n",
    "    best_solution = None\n",
    "    best_fitness = float('-inf')  # Initialize for maximization\n",
    "\n",
    "    for generation in range(generations):\n",
    "        fitness_values = [fitness_function(x1, x2) for x1, x2 in population]\n",
    "\n",
    "        # Find the best individual in the current generation\n",
    "        current_best_index = max(range(population_size), key=lambda i: fitness_values[i])\n",
    "        current_best_solution = population[current_best_index]\n",
    "        current_best_fitness = fitness_values[current_best_index]\n",
    "\n",
    "        if current_best_fitness > best_fitness:\n",
    "            best_fitness = current_best_fitness\n",
    "            best_solution = current_best_solution\n",
    "\n",
    "        # Selection\n",
    "        selected_parents = [select_parent(population, fitness_values) for _ in range(population_size)]\n",
    "\n",
    "        # Crossover and Mutation\n",
    "        new_population = []\n",
    "        for i in range(0, population_size, 2):\n",
    "            parent1 = selected_parents[i % len(selected_parents)]\n",
    "            parent2 = selected_parents[(i + 1) % len(selected_parents)]\n",
    "            child1, child2 = crossover(parent1, parent2, crossover_rate)\n",
    "            new_population.append(mutate(child1, mutation_rate, x1_min, x1_max, x2_min, x2_max))\n",
    "            new_population.append(mutate(child2, mutation_rate, x1_min, x1_max, x2_min, x2_max))\n",
    "        population = new_population\n",
    "\n",
    "        # Print generation and best result\n",
    "        print(f\"Generation {generation + 1}: Best solution = {current_best_solution}, Best fitness = {current_best_fitness:.4f}\")\n",
    "\n",
    "    return best_solution, best_fitness\n",
    "\n",
    "\n",
    "if __name__ == \"__main__\":\n",
    "    # Define the problem parameters\n",
    "    x1_min = -10\n",
    "    x1_max = 10\n",
    "    x2_min = -10\n",
    "    x2_max = 10\n",
    "    population_size = 300 # Changed to 300\n",
    "    generations = 4 # Changed to 4\n",
    "\n",
    "    # Run the genetic algorithm\n",
    "    best_solution, best_fitness = genetic_algorithm(population_size, generations,\n",
    "                                                     x1_min=x1_min, x1_max=x1_max,\n",
    "                                                     x2_min=x2_min, x2_max=x2_max)\n",
    "\n",
    "    # Print the final result\n",
    "    print(\"\\nFinal Best Solution (x1, x2):\", best_solution)\n",
    "    print(\"Final Best Fitness:\", best_fitness)\n"
   ]
  },
  {
   "cell_type": "markdown",
   "id": "19109cbd-2908-4922-81d1-d24d090ea78a",
   "metadata": {
    "jp-MarkdownHeadingCollapsed": true
   },
   "source": [
    "# 10. Minimize f(x)=x**2 using genetic algorithm"
   ]
  },
  {
   "cell_type": "code",
   "execution_count": 65,
   "id": "834bfb40-4589-4074-9226-72780864e756",
   "metadata": {},
   "outputs": [
    {
     "name": "stdout",
     "output_type": "stream",
     "text": [
      "Generation 1: Best solution = [9, 2, 27, 7], Best objective = 2025.0000\n",
      "Generation 2: Best solution = [9, 2, 20, 7], Best objective = 1444.0000\n",
      "Generation 5: Best solution = [3, 2, 20, 7], Best objective = 1024.0000\n",
      "Generation 7: Best solution = [3, 2, 14, 7], Best objective = 676.0000\n",
      "Generation 8: Best solution = [3, 2, 12, 5], Best objective = 484.0000\n",
      "\n",
      "Final Best Solution: [3, 2, 12, 5]\n",
      "Final Best Objective Value: 484.0000\n"
     ]
    }
   ],
   "source": [
    "import random\n",
    "import math\n",
    "\n",
    "def objective_function(x):\n",
    "    \"\"\"Calculates the objective function value (x^2).\"\"\"\n",
    "    return x**2\n",
    "\n",
    "def fitness_function(x):\n",
    "    \"\"\"Calculates the fitness value (1/(1 + objective_function(x))).\"\"\"\n",
    "    return 1 / (1 + objective_function(x))\n",
    "\n",
    "def select_parent(population, fitness_values):\n",
    "    \"\"\"Selects a parent using roulette wheel selection.\"\"\"\n",
    "    total_fitness = sum(fitness_values)\n",
    "    probabilities = [f / total_fitness for f in fitness_values]\n",
    "    cumulative_probabilities = [sum(probabilities[:i + 1]) for i in range(len(probabilities))]\n",
    "    r = random.random()\n",
    "    for i, c in enumerate(cumulative_probabilities):\n",
    "        if c >= r:\n",
    "            return population[i]\n",
    "    return population[-1]  # Fallback, should rarely happen\n",
    "\n",
    "def crossover(parent1, parent2, crossover_rate=0.25):\n",
    "    \"\"\"Performs single-point crossover with a given probability.\"\"\"\n",
    "    if random.random() < crossover_rate:\n",
    "        pt = random.randint(0, len(parent1) - 2)  # Ensure at least one element in each part\n",
    "        child1 = parent1[:pt + 1] + parent2[pt + 1:]\n",
    "        child2 = parent2[:pt + 1] + parent1[pt + 1:]\n",
    "        return child1, child2\n",
    "    else:\n",
    "        return parent1, parent2\n",
    "\n",
    "def mutate(individual, mutation_rate=0.1, mutation_range=30):\n",
    "    \"\"\"Mutates an individual with a given probability.\"\"\"\n",
    "    mutated_individual = list(individual)  # Create a mutable copy\n",
    "    for i in range(len(mutated_individual)):\n",
    "        if random.random() < mutation_rate:\n",
    "            mutated_individual[i] = random.randint(0, mutation_range)\n",
    "    return mutated_individual\n",
    "\n",
    "def genetic_algorithm(population_size=6, chromosome_length=4, generations=10, crossover_rate=0.25, mutation_rate=0.1, mutation_range=30):\n",
    "    \"\"\"Implements a genetic algorithm to minimize the objective function x^2.\"\"\"\n",
    "\n",
    "    # Initialize population\n",
    "    population = [[random.randint(0, mutation_range) for _ in range(chromosome_length)] for _ in range(population_size)]\n",
    "    best_solution = None\n",
    "    best_fitness = float('inf')  # Initialize with a very large value for minimization\n",
    "\n",
    "    for generation in range(generations):\n",
    "        objective_values = [objective_function(sum(individual)) for individual in population]  # Sum of genes\n",
    "        fitness_values = [fitness_function(sum(individual)) for individual in population]\n",
    "\n",
    "        # Find the best individual in the current generation\n",
    "        current_best_index = min(range(population_size), key=lambda i: objective_values[i]) #index of minimum objective value\n",
    "        current_best_solution = population[current_best_index]\n",
    "        current_best_objective = objective_values[current_best_index]\n",
    "\n",
    "        if current_best_objective < best_fitness:\n",
    "            best_fitness = current_best_objective\n",
    "            best_solution = current_best_solution\n",
    "            print(f\"Generation {generation + 1}: Best solution = {best_solution}, Best objective = {best_fitness:.4f}\")\n",
    "\n",
    "        # Selection\n",
    "        selected_parents = [select_parent(population, fitness_values) for _ in range(population_size)]\n",
    "\n",
    "        # Crossover and Mutation\n",
    "        new_population = []\n",
    "        for i in range(0, population_size, 2):\n",
    "            parent1 = selected_parents[i % len(selected_parents)]\n",
    "            parent2 = selected_parents[(i + 1) % len(selected_parents)]\n",
    "            child1, child2 = crossover(parent1, parent2, crossover_rate)\n",
    "            new_population.append(mutate(child1, mutation_rate, mutation_range))\n",
    "            new_population.append(mutate(child2, mutation_rate, mutation_range))\n",
    "        population = new_population\n",
    "\n",
    "    return best_solution, best_fitness\n",
    "\n",
    "\n",
    "\n",
    "if __name__ == \"__main__\":\n",
    "    best_solution, best_objective = genetic_algorithm()\n",
    "    print(f\"\\nFinal Best Solution: {best_solution}\")\n",
    "    print(f\"Final Best Objective Value: {best_objective:.4f}\")\n"
   ]
  }
 ],
 "metadata": {
  "kernelspec": {
   "display_name": "Python 3 (ipykernel)",
   "language": "python",
   "name": "python3"
  },
  "language_info": {
   "codemirror_mode": {
    "name": "ipython",
    "version": 3
   },
   "file_extension": ".py",
   "mimetype": "text/x-python",
   "name": "python",
   "nbconvert_exporter": "python",
   "pygments_lexer": "ipython3",
   "version": "3.12.4"
  }
 },
 "nbformat": 4,
 "nbformat_minor": 5
}
